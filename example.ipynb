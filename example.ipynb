{
 "cells": [
  {
   "cell_type": "code",
   "execution_count": 48,
   "metadata": {},
   "outputs": [],
   "source": [
    "from keras.models import load_model\n",
    "from lstm_network import LSTM_network\n",
    "import tensorflow as tf\n",
    "import numpy as np\n",
    "import pickle as pkl"
   ]
  },
  {
   "cell_type": "code",
   "execution_count": 39,
   "metadata": {},
   "outputs": [
    {
     "name": "stderr",
     "output_type": "stream",
     "text": [
      "/usr/local/lib/python3.6/dist-packages/keras/engine/saving.py:341: UserWarning: No training configuration found in save file: the model was *not* compiled. Compile it manually.\n",
      "  warnings.warn('No training configuration found in save file: '\n"
     ]
    }
   ],
   "source": [
    "# load the keras model and the word-2-vec dictionary\n",
    "keras_model = load_model('model/sentiment_model.hdf5')\n",
    "w2v = pkl.load(open('model/token2vec.pkl', 'rb'))"
   ]
  },
  {
   "cell_type": "code",
   "execution_count": 93,
   "metadata": {},
   "outputs": [],
   "source": [
    "# create the lstm-lrp model\n",
    "n_hidden = 60\n",
    "embedding_dim = 60\n",
    "n_classes = 5\n",
    "weights = keras_model.get_weights()\n",
    "lrp_model = LSTM_network(n_hidden, embedding_dim, n_classes, weights=weights)"
   ]
  },
  {
   "cell_type": "code",
   "execution_count": 94,
   "metadata": {},
   "outputs": [
    {
     "name": "stdout",
     "output_type": "stream",
     "text": [
      "Conversion is correct.\n"
     ]
    }
   ],
   "source": [
    "# test if the conversion was correct with an example sentence\n",
    "sentence = 'Neither funny nor suspenseful nor particularly well-drawn .'\n",
    "tokens = [s.lower() for s in sentence.split()]\n",
    "vecs = np.array([w2v[t] for t in tokens])\n",
    "y_keras = keras_model.predict(vecs[np.newaxis,:])\n",
    "y_lrpnet, _, _ = lrp_model.full_pass(vecs[np.newaxis,:])\n",
    "check = np.allclose(y_keras, y_lrpnet.numpy())\n",
    "print('Conversion is {}.'.format('correct' if check else 'wrong'))"
   ]
  },
  {
   "cell_type": "code",
   "execution_count": 95,
   "metadata": {},
   "outputs": [
    {
     "name": "stdout",
     "output_type": "stream",
     "text": [
      "(1, 8, 60)\n"
     ]
    }
   ],
   "source": [
    "# explain the classification\n",
    "eps = 1e-3\n",
    "bias_factor = 0.0\n",
    "explanation, Rest = lrp_model.lrp(vecs[np.newaxis,:], eps=eps, bias_factor=bias_factor)\n",
    "print(explanation.shape)"
   ]
  },
  {
   "cell_type": "code",
   "execution_count": 96,
   "metadata": {},
   "outputs": [
    {
     "name": "stdout",
     "output_type": "stream",
     "text": [
      "      neither:       1.86\n",
      "        funny:      -1.58\n",
      "          nor:       1.50\n",
      "  suspenseful:      -1.54\n",
      "          nor:       2.00\n",
      " particularly:      -0.04\n",
      "   well-drawn:      -0.06\n",
      "            .:      -0.12\n"
     ]
    }
   ],
   "source": [
    "# LRP assigns each dimension in the embedding vector a relevance value. To get relevances for each word we can\n",
    "# sum up these values\n",
    "word_relevances = tf.reduce_sum(explanation, axis=2)\n",
    "for word, relevance in zip(tokens, word_relevances[0]):\n",
    "    print('{0:>13}:   {1:8.2f}'.format(word, relevance))"
   ]
  },
  {
   "cell_type": "code",
   "execution_count": 97,
   "metadata": {},
   "outputs": [
    {
     "name": "stdout",
     "output_type": "stream",
     "text": [
      "LRP pass is correct.\n"
     ]
    }
   ],
   "source": [
    "# to check the correctness of the lrp pass we check if all relevance was preserved by using a bias factor of 1.0\n",
    "eps = 0.0\n",
    "bias_factor = 1.0\n",
    "explanation, Rest = lrp_model.lrp(vecs[np.newaxis,:], eps=eps, bias_factor=bias_factor)\n",
    "check = np.allclose(np.max(y_lrpnet.numpy()), np.sum(explanation)+np.sum(Rest))\n",
    "print('LRP pass is {}.'.format('correct' if check else 'wrong'))"
   ]
  },
  {
   "cell_type": "code",
   "execution_count": 98,
   "metadata": {},
   "outputs": [
    {
     "name": "stdout",
     "output_type": "stream",
     "text": [
      "(100, 10, 60)\n"
     ]
    }
   ],
   "source": [
    "# if all your input sequences have the same length you can process them batch-wise efficiently\n",
    "batch_size = 100\n",
    "length = 10\n",
    "some_random_data = tf.constant(np.random.randn(batch_size, length, embedding_dim))\n",
    "# explain 100 instances at once\n",
    "relevances, _ = lrp_model.lrp(some_random_data)\n",
    "print(relevances.shape)"
   ]
  },
  {
   "cell_type": "code",
   "execution_count": null,
   "metadata": {},
   "outputs": [],
   "source": []
  }
 ],
 "metadata": {
  "kernelspec": {
   "display_name": "Python 3",
   "language": "python",
   "name": "python3"
  },
  "language_info": {
   "codemirror_mode": {
    "name": "ipython",
    "version": 3
   },
   "file_extension": ".py",
   "mimetype": "text/x-python",
   "name": "python",
   "nbconvert_exporter": "python",
   "pygments_lexer": "ipython3",
   "version": "3.6.9"
  }
 },
 "nbformat": 4,
 "nbformat_minor": 2
}
